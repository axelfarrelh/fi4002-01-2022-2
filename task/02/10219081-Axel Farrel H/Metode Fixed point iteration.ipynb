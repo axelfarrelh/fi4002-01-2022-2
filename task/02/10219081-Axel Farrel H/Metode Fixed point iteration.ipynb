{
 "cells": [
  {
   "cell_type": "code",
   "execution_count": 14,
   "id": "be0dc78a",
   "metadata": {},
   "outputs": [],
   "source": [
    "#10219081-Axel Farrel Hutagalung\n",
    "\n",
    "#Import Library\n",
    "import math\n",
    "#Definisi fungsi yang digunakan\n",
    "def f(x):\n",
    "    y = math.pow(x, 2) - (10*x) + 5\n",
    "    return y\n",
    "\n",
    "x = [i for i in range(-5,5)]\n",
    "y = [f(i) for i in x]\n",
    "\n",
    "def g(x):\n",
    "    a = 10 - (5/x)\n",
    "    b = 5/(math.pow(x, 2))\n",
    "    c = 0.205\n",
    "    d = 2 * math.asin(c / b) + 2 * a\n",
    "    return d"
   ]
  },
  {
   "cell_type": "code",
   "execution_count": 15,
   "id": "6dc47906",
   "metadata": {},
   "outputs": [
    {
     "name": "stdout",
     "output_type": "stream",
     "text": [
      "iter root         f(root)\n",
      "0000 1.000000E+00 -4.000000E+00\n",
      "0001 1.008202E+01 +5.826958E+00\n",
      "0002 1.008202E+01 +5.826958E+00\n"
     ]
    },
    {
     "ename": "ValueError",
     "evalue": "math domain error",
     "output_type": "error",
     "traceback": [
      "\u001b[1;31m---------------------------------------------------------------------------\u001b[0m",
      "\u001b[1;31mValueError\u001b[0m                                Traceback (most recent call last)",
      "Cell \u001b[1;32mIn[15], line 19\u001b[0m\n\u001b[0;32m     16\u001b[0m \u001b[38;5;28;01mif\u001b[39;00m i \u001b[38;5;241m==\u001b[39m \u001b[38;5;241m1\u001b[39m:\n\u001b[0;32m     17\u001b[0m     \u001b[38;5;28mprint\u001b[39m(\u001b[38;5;124mf\u001b[39m\u001b[38;5;124m\"\u001b[39m\u001b[38;5;132;01m{\u001b[39;00mi\u001b[38;5;241m-\u001b[39m\u001b[38;5;241m1\u001b[39m\u001b[38;5;132;01m:\u001b[39;00m\u001b[38;5;124m04d\u001b[39m\u001b[38;5;132;01m}\u001b[39;00m\u001b[38;5;124m\"\u001b[39m, \u001b[38;5;124mf\u001b[39m\u001b[38;5;124m\"\u001b[39m\u001b[38;5;132;01m{\u001b[39;00mx1\u001b[38;5;132;01m:\u001b[39;00m\u001b[38;5;124m.6E\u001b[39m\u001b[38;5;132;01m}\u001b[39;00m\u001b[38;5;124m\"\u001b[39m, \u001b[38;5;124mf\u001b[39m\u001b[38;5;124m\"\u001b[39m\u001b[38;5;132;01m{\u001b[39;00mf(x1)\u001b[38;5;132;01m:\u001b[39;00m\u001b[38;5;124m+.6E\u001b[39m\u001b[38;5;132;01m}\u001b[39;00m\u001b[38;5;124m\"\u001b[39m)\n\u001b[1;32m---> 19\u001b[0m x1 \u001b[38;5;241m=\u001b[39m \u001b[43mg\u001b[49m\u001b[43m(\u001b[49m\u001b[43mx0\u001b[49m\u001b[43m)\u001b[49m\n\u001b[0;32m     21\u001b[0m xroot\u001b[38;5;241m.\u001b[39mappend(x1)\n\u001b[0;32m     22\u001b[0m dx \u001b[38;5;241m=\u001b[39m \u001b[38;5;28mabs\u001b[39m(f(x1))\n",
      "Cell \u001b[1;32mIn[14], line 17\u001b[0m, in \u001b[0;36mg\u001b[1;34m(x)\u001b[0m\n\u001b[0;32m     15\u001b[0m b \u001b[38;5;241m=\u001b[39m \u001b[38;5;241m5\u001b[39m\u001b[38;5;241m/\u001b[39m(math\u001b[38;5;241m.\u001b[39mpow(x, \u001b[38;5;241m2\u001b[39m))\n\u001b[0;32m     16\u001b[0m c \u001b[38;5;241m=\u001b[39m \u001b[38;5;241m0.205\u001b[39m\n\u001b[1;32m---> 17\u001b[0m d \u001b[38;5;241m=\u001b[39m \u001b[38;5;241m2\u001b[39m \u001b[38;5;241m*\u001b[39m \u001b[43mmath\u001b[49m\u001b[38;5;241;43m.\u001b[39;49m\u001b[43masin\u001b[49m\u001b[43m(\u001b[49m\u001b[43mc\u001b[49m\u001b[43m \u001b[49m\u001b[38;5;241;43m/\u001b[39;49m\u001b[43m \u001b[49m\u001b[43mb\u001b[49m\u001b[43m)\u001b[49m \u001b[38;5;241m+\u001b[39m \u001b[38;5;241m2\u001b[39m \u001b[38;5;241m*\u001b[39m a\n\u001b[0;32m     18\u001b[0m \u001b[38;5;28;01mreturn\u001b[39;00m d\n",
      "\u001b[1;31mValueError\u001b[0m: math domain error"
     ]
    }
   ],
   "source": [
    "xroot = []\n",
    "yroot = []\n",
    "\n",
    "x0 = 1\n",
    "y0 = f(x0)\n",
    "xroot.append(x0)\n",
    "yroot.append(y0)\n",
    "\n",
    "i = 1\n",
    "eps = 1E-6\n",
    "dx = 10\n",
    "print(\"iter root         f(root)\")\n",
    "while dx > eps and i < 20:\n",
    "    x0 = xroot[i-2]\n",
    "    x1 = xroot[i-1]\n",
    "    if i == 1:\n",
    "        print(f\"{i-1:04d}\", f\"{x1:.6E}\", f\"{f(x1):+.6E}\")\n",
    "    \n",
    "    x1 = g(x0)\n",
    "    \n",
    "    xroot.append(x1)\n",
    "    dx = abs(f(x1))\n",
    "    \n",
    "    print(f\"{i:04d}\", f\"{x1:.6E}\", f\"{f(x1):+.6E}\")\n",
    "    i += 1"
   ]
  },
  {
   "cell_type": "code",
   "execution_count": null,
   "id": "cc0cdfe5",
   "metadata": {
    "scrolled": true
   },
   "outputs": [],
   "source": [
    "print(\"root =\", xroot[-1])\n",
    "print(\"f(root) =\", f(xroot[-1]))"
   ]
  },
  {
   "cell_type": "code",
   "execution_count": null,
   "id": "e7d93fe8",
   "metadata": {},
   "outputs": [],
   "source": [
    "yroot = [f(i) for i in xroot]"
   ]
  },
  {
   "cell_type": "code",
   "execution_count": null,
   "id": "c6760350",
   "metadata": {},
   "outputs": [],
   "source": [
    "import matplotlib.pyplot as plt\n",
    "plt.grid()\n",
    "plt.xlabel(\"x\")\n",
    "plt.ylabel(\"f(x)\")\n",
    "plt.plot(x, y, '-', xroot, yroot, 'r.', lw=2)\n",
    "plt.show()"
   ]
  },
  {
   "cell_type": "code",
   "execution_count": null,
   "id": "d67c8ebe",
   "metadata": {},
   "outputs": [],
   "source": [
    "plt.grid()\n",
    "plt.xlabel(\"iter\")\n",
    "plt.ylabel(\"f(x)\")\n",
    "plt.plot(yroot, 'r.-')\n",
    "plt.show()"
   ]
  },
  {
   "cell_type": "code",
   "execution_count": null,
   "id": "224e9b40",
   "metadata": {},
   "outputs": [],
   "source": []
  }
 ],
 "metadata": {
  "kernelspec": {
   "display_name": "Python 3 (ipykernel)",
   "language": "python",
   "name": "python3"
  },
  "language_info": {
   "codemirror_mode": {
    "name": "ipython",
    "version": 3
   },
   "file_extension": ".py",
   "mimetype": "text/x-python",
   "name": "python",
   "nbconvert_exporter": "python",
   "pygments_lexer": "ipython3",
   "version": "3.11.1"
  }
 },
 "nbformat": 4,
 "nbformat_minor": 5
}
