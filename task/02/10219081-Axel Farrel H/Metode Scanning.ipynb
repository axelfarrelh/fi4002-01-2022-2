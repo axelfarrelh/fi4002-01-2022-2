{
 "cells": [
  {
   "cell_type": "code",
   "execution_count": 8,
   "id": "49ce9465",
   "metadata": {},
   "outputs": [
    {
     "name": "stdout",
     "output_type": "stream",
     "text": [
      "Root existance between 0 and 1 : True\n"
     ]
    }
   ],
   "source": [
    "#10219081-Axel Farrel Hutagalung\n",
    "\n",
    "#Import Library\n",
    "import math\n",
    "#Definisi fungsi yang digunakan\n",
    "def f(x):\n",
    "    y = math.pow(x, 2) - (10*x) + 5\n",
    "    return y\n",
    "\n",
    "x = [i for i in range(-5,5)]\n",
    "y = [f(i) for i in x]\n",
    "\n",
    "xroot = [0, 1]\n",
    "yroot = [f(i) for i in xroot]\n",
    "\n",
    "print(\"Root existance between\", xroot[0], \"and\", xroot[1], \":\", end=' ')\n",
    "if yroot[0] * yroot[1] < 0:\n",
    "    print(True)\n",
    "else:\n",
    "    print(False)"
   ]
  },
  {
   "cell_type": "code",
   "execution_count": 10,
   "id": "f389c614",
   "metadata": {},
   "outputs": [
    {
     "name": "stdout",
     "output_type": "stream",
     "text": [
      "Root exists between 0.5 and 0.6\n"
     ]
    }
   ],
   "source": [
    "N = 10\n",
    "xbeg = xroot[0]\n",
    "xend = xroot[1]\n",
    "dx = (xend - xbeg) / N\n",
    "\n",
    "\n",
    "sign = 0\n",
    "for i in range(N + 1):\n",
    "    xi = xbeg + i * dx\n",
    "    xi = round(xi * N) / N\n",
    "    \n",
    "    yi = f(xi)\n",
    "    if yi > 0:\n",
    "        cur_sign = 1\n",
    "    else:\n",
    "        cur_sign = -1\n",
    "    \n",
    "    if i == 0:\n",
    "        sign = cur_sign\n",
    "    \n",
    "    if cur_sign * sign < 0:\n",
    "        xleft = xi - dx\n",
    "        xright = xi\n",
    "        break\n",
    "\n",
    "print(\"Root exists between\", xleft, \"and\", xright)"
   ]
  },
  {
   "cell_type": "code",
   "execution_count": 15,
   "id": "b89b8d09",
   "metadata": {},
   "outputs": [
    {
     "name": "stdout",
     "output_type": "stream",
     "text": [
      "Root exists between 0.52 and 0.53\n"
     ]
    }
   ],
   "source": [
    "N = 100\n",
    "xbeg = xroot[0]\n",
    "xend = xroot[1]\n",
    "dx = (xend - xbeg) / N\n",
    "\n",
    "\n",
    "sign = 0\n",
    "for i in range(N + 1):\n",
    "    xi = xbeg + i * dx\n",
    "    xi = round(xi * N) / N\n",
    "    \n",
    "    yi = f(xi)\n",
    "    if yi > 0:\n",
    "        cur_sign = 1\n",
    "    else:\n",
    "        cur_sign = -1\n",
    "    \n",
    "    if i == 0:\n",
    "        sign = cur_sign\n",
    "    \n",
    "    if cur_sign * sign < 0:\n",
    "        xleft = xi - dx\n",
    "        xright = xi\n",
    "        break\n",
    "\n",
    "print(\"Root exists between\", xleft, \"and\", xright)"
   ]
  },
  {
   "cell_type": "code",
   "execution_count": 16,
   "id": "5d8df596",
   "metadata": {},
   "outputs": [
    {
     "name": "stdout",
     "output_type": "stream",
     "text": [
      "Root exists between 0.527 and 0.528\n"
     ]
    }
   ],
   "source": [
    "N = 1000\n",
    "xbeg = xroot[0]\n",
    "xend = xroot[1]\n",
    "dx = (xend - xbeg) / N\n",
    "\n",
    "\n",
    "sign = 0\n",
    "for i in range(N + 1):\n",
    "    xi = xbeg + i * dx\n",
    "    xi = round(xi * N) / N\n",
    "    \n",
    "    yi = f(xi)\n",
    "    if yi > 0:\n",
    "        cur_sign = 1\n",
    "    else:\n",
    "        cur_sign = -1\n",
    "    \n",
    "    if i == 0:\n",
    "        sign = cur_sign\n",
    "    \n",
    "    if cur_sign * sign < 0:\n",
    "        xleft = xi - dx\n",
    "        xright = xi\n",
    "        break\n",
    "\n",
    "print(\"Root exists between\", xleft, \"and\", xright)"
   ]
  },
  {
   "cell_type": "code",
   "execution_count": 17,
   "id": "39031f50",
   "metadata": {},
   "outputs": [
    {
     "name": "stdout",
     "output_type": "stream",
     "text": [
      "Root exists between 0.5278 and 0.5279\n"
     ]
    }
   ],
   "source": [
    "N = 10000\n",
    "xbeg = xroot[0]\n",
    "xend = xroot[1]\n",
    "dx = (xend - xbeg) / N\n",
    "\n",
    "\n",
    "sign = 0\n",
    "for i in range(N + 1):\n",
    "    xi = xbeg + i * dx\n",
    "    xi = round(xi * N) / N\n",
    "    \n",
    "    yi = f(xi)\n",
    "    if yi > 0:\n",
    "        cur_sign = 1\n",
    "    else:\n",
    "        cur_sign = -1\n",
    "    \n",
    "    if i == 0:\n",
    "        sign = cur_sign\n",
    "    \n",
    "    if cur_sign * sign < 0:\n",
    "        xleft = xi - dx\n",
    "        xright = xi\n",
    "        break\n",
    "\n",
    "print(\"Root exists between\", xleft, \"and\", xright)"
   ]
  },
  {
   "cell_type": "code",
   "execution_count": 18,
   "id": "328a4657",
   "metadata": {},
   "outputs": [
    {
     "name": "stdout",
     "output_type": "stream",
     "text": [
      "Root exists between 0.52786 and 0.52787\n"
     ]
    }
   ],
   "source": [
    "N = 100000\n",
    "xbeg = xroot[0]\n",
    "xend = xroot[1]\n",
    "dx = (xend - xbeg) / N\n",
    "\n",
    "\n",
    "sign = 0\n",
    "for i in range(N + 1):\n",
    "    xi = xbeg + i * dx\n",
    "    xi = round(xi * N) / N\n",
    "    \n",
    "    yi = f(xi)\n",
    "    if yi > 0:\n",
    "        cur_sign = 1\n",
    "    else:\n",
    "        cur_sign = -1\n",
    "    \n",
    "    if i == 0:\n",
    "        sign = cur_sign\n",
    "    \n",
    "    if cur_sign * sign < 0:\n",
    "        xleft = xi - dx\n",
    "        xright = xi\n",
    "        break\n",
    "\n",
    "print(\"Root exists between\", xleft, \"and\", xright)"
   ]
  },
  {
   "cell_type": "code",
   "execution_count": 19,
   "id": "5bd04d0c",
   "metadata": {},
   "outputs": [
    {
     "name": "stdout",
     "output_type": "stream",
     "text": [
      "Root exists between 0.527864 and 0.527865\n"
     ]
    }
   ],
   "source": [
    "N = 1000000\n",
    "xbeg = xroot[0]\n",
    "xend = xroot[1]\n",
    "dx = (xend - xbeg) / N\n",
    "\n",
    "\n",
    "sign = 0\n",
    "for i in range(N + 1):\n",
    "    xi = xbeg + i * dx\n",
    "    xi = round(xi * N) / N\n",
    "    \n",
    "    yi = f(xi)\n",
    "    if yi > 0:\n",
    "        cur_sign = 1\n",
    "    else:\n",
    "        cur_sign = -1\n",
    "    \n",
    "    if i == 0:\n",
    "        sign = cur_sign\n",
    "    \n",
    "    if cur_sign * sign < 0:\n",
    "        xleft = xi - dx\n",
    "        xright = xi\n",
    "        break\n",
    "\n",
    "print(\"Root exists between\", xleft, \"and\", xright)"
   ]
  },
  {
   "cell_type": "code",
   "execution_count": null,
   "id": "539ab90a",
   "metadata": {},
   "outputs": [],
   "source": []
  }
 ],
 "metadata": {
  "kernelspec": {
   "display_name": "Python 3 (ipykernel)",
   "language": "python",
   "name": "python3"
  },
  "language_info": {
   "codemirror_mode": {
    "name": "ipython",
    "version": 3
   },
   "file_extension": ".py",
   "mimetype": "text/x-python",
   "name": "python",
   "nbconvert_exporter": "python",
   "pygments_lexer": "ipython3",
   "version": "3.11.1"
  }
 },
 "nbformat": 4,
 "nbformat_minor": 5
}
